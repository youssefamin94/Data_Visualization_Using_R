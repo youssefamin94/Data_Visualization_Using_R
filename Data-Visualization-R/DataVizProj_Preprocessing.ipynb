{
 "cells": [
  {
   "cell_type": "code",
   "execution_count": 46,
   "metadata": {},
   "outputs": [],
   "source": [
    "import pandas as pd \n",
    "import numpy as np\n",
    "#Importing the packages we will be working with, pandas for data analysis and exploration, NumPy for data manipulation\n",
    "#matplotlib.pyplot and seaborn are for visualization"
   ]
  },
  {
   "cell_type": "code",
   "execution_count": 89,
   "metadata": {},
   "outputs": [],
   "source": [
    "# Loadind the dataset\n",
    "df = pd.read_csv('/Users/hadyelhossary/Downloads/DataViz_Project/tmdb-movies.csv')\n",
    "# Checking for a random sample of 7 records\n",
    "# df.sample(7)"
   ]
  },
  {
   "cell_type": "code",
   "execution_count": 90,
   "metadata": {},
   "outputs": [
    {
     "name": "stdout",
     "output_type": "stream",
     "text": [
      "<class 'pandas.core.frame.DataFrame'>\n",
      "RangeIndex: 10866 entries, 0 to 10865\n",
      "Data columns (total 21 columns):\n",
      " #   Column                Non-Null Count  Dtype  \n",
      "---  ------                --------------  -----  \n",
      " 0   id                    10866 non-null  int64  \n",
      " 1   imdb_id               10856 non-null  object \n",
      " 2   popularity            10866 non-null  float64\n",
      " 3   budget                10866 non-null  int64  \n",
      " 4   revenue               10866 non-null  int64  \n",
      " 5   original_title        10866 non-null  object \n",
      " 6   cast                  10790 non-null  object \n",
      " 7   homepage              2936 non-null   object \n",
      " 8   director              10822 non-null  object \n",
      " 9   tagline               8042 non-null   object \n",
      " 10  keywords              9373 non-null   object \n",
      " 11  overview              10862 non-null  object \n",
      " 12  runtime               10866 non-null  int64  \n",
      " 13  genres                10843 non-null  object \n",
      " 14  production_companies  9836 non-null   object \n",
      " 15  release_date          10866 non-null  object \n",
      " 16  vote_count            10866 non-null  int64  \n",
      " 17  vote_average          10866 non-null  float64\n",
      " 18  release_year          10866 non-null  int64  \n",
      " 19  budget_adj            10866 non-null  float64\n",
      " 20  revenue_adj           10866 non-null  float64\n",
      "dtypes: float64(4), int64(6), object(11)\n",
      "memory usage: 1.7+ MB\n"
     ]
    }
   ],
   "source": [
    "df.info()"
   ]
  },
  {
   "cell_type": "code",
   "execution_count": 91,
   "metadata": {},
   "outputs": [],
   "source": [
    "df.drop_duplicates(inplace=True)\n",
    "df = df[(df.budget_adj != 0) & (df.revenue_adj != 0)]\n",
    "df.drop(columns=['popularity','homepage','tagline','keywords','overview','budget','revenue','production_companies'],axis=1,inplace=True)\n",
    "df['release_date'] = pd.to_datetime(df['release_date'])\n",
    "df['release_day'] = df['release_date'].dt.day\n",
    "df['release_month'] = df['release_date'].dt.month\n",
    "df.drop(columns='release_date',inplace=True,axis=1)\n",
    "df.dropna(axis=0,inplace=True)"
   ]
  },
  {
   "cell_type": "code",
   "execution_count": 92,
   "metadata": {},
   "outputs": [],
   "source": [
    "def count(dataframe):\n",
    "    \"\"\"This function recives the dataframe as a parameter and seprates the cast column by the seperator '|' an counts the occurence of each actor and return a series of the actors and how frequent they appear in the series\"\"\"\n",
    "    #concatenate all the rows of the genres\n",
    "    data_plot = df[dataframe].str.cat(sep = '|')\n",
    "    data = pd.Series(data_plot.split('|'))\n",
    "    #counts each of the genre.\n",
    "    info = data.value_counts(ascending=False)\n",
    "    return info"
   ]
  },
  {
   "cell_type": "code",
   "execution_count": 77,
   "metadata": {},
   "outputs": [],
   "source": []
  },
  {
   "cell_type": "code",
   "execution_count": 93,
   "metadata": {},
   "outputs": [],
   "source": [
    "df = df.rename(columns={'original_title':'title'})"
   ]
  },
  {
   "cell_type": "code",
   "execution_count": 94,
   "metadata": {},
   "outputs": [],
   "source": [
    "dff = pd.read_csv('/Users/hadyelhossary/Downloads/DataViz_Project/netflix_titles.csv')"
   ]
  },
  {
   "cell_type": "code",
   "execution_count": 95,
   "metadata": {},
   "outputs": [],
   "source": [
    "df3 = pd.merge(df,dff, on=['title','director'],how='left')"
   ]
  },
  {
   "cell_type": "code",
   "execution_count": 96,
   "metadata": {},
   "outputs": [],
   "source": [
    "data_plot = df3['genres'].str.cat(sep = '|')\n",
    "df3['genres'] = pd.Series(data_plot.split('|'))"
   ]
  },
  {
   "cell_type": "code",
   "execution_count": 97,
   "metadata": {},
   "outputs": [],
   "source": [
    "data_plot = df3['country'].str.cat(sep = ',')\n",
    "df3['country'] = pd.Series(data_plot.split(','))"
   ]
  },
  {
   "cell_type": "code",
   "execution_count": 98,
   "metadata": {},
   "outputs": [],
   "source": [
    "df3.country = df3.country.str.lstrip()"
   ]
  },
  {
   "cell_type": "code",
   "execution_count": 99,
   "metadata": {},
   "outputs": [
    {
     "data": {
      "text/plain": [
       "United States           418\n",
       "United Kingdom           80\n",
       "Germany                  35\n",
       "France                   33\n",
       "Canada                   30\n",
       "Australia                15\n",
       "India                     8\n",
       "Italy                     7\n",
       "China                     6\n",
       "Japan                     6\n",
       "Ireland                   6\n",
       "Mexico                    5\n",
       "Czech Republic            4\n",
       "Belgium                   4\n",
       "New Zealand               4\n",
       "Hong Kong                 4\n",
       "Spain                     3\n",
       "United Arab Emirates      3\n",
       "Russia                    3\n",
       "South Africa              2\n",
       "Norway                    2\n",
       "Malta                     2\n",
       "Sweden                    2\n",
       "Denmark                   2\n",
       "Netherlands               1\n",
       "Bahamas                   1\n",
       "Greece                    1\n",
       "East Germany              1\n",
       "West Germany              1\n",
       "South Korea               1\n",
       "Switzerland               1\n",
       "Israel                    1\n",
       "Chile                     1\n",
       "Liechtenstein             1\n",
       "Name: country, dtype: int64"
      ]
     },
     "execution_count": 99,
     "metadata": {},
     "output_type": "execute_result"
    }
   ],
   "source": [
    "df3.country.value_counts()"
   ]
  },
  {
   "cell_type": "code",
   "execution_count": 84,
   "metadata": {},
   "outputs": [],
   "source": [
    "data_plot2 = df3['director'].str.cat(sep = ',')\n",
    "df3['director'] = pd.Series(data_plot2.split(','))"
   ]
  },
  {
   "cell_type": "code",
   "execution_count": 65,
   "metadata": {},
   "outputs": [],
   "source": [
    "data_plot3 = df3['director'].str.cat(sep = '|')\n",
    "df3['director'] = pd.Series(data_plot3.split('|'))"
   ]
  },
  {
   "cell_type": "code",
   "execution_count": 100,
   "metadata": {
    "scrolled": true
   },
   "outputs": [
    {
     "data": {
      "text/plain": [
       "Steven Spielberg     27\n",
       "Clint Eastwood       24\n",
       "Ridley Scott         21\n",
       "Woody Allen          18\n",
       "Steven Soderbergh    17\n",
       "                     ..\n",
       "Adam Marcus           1\n",
       "Desmond Davis         1\n",
       "Ken Loach             1\n",
       "Gregory Poirier       1\n",
       "Jonathan Newman       1\n",
       "Name: director, Length: 1710, dtype: int64"
      ]
     },
     "execution_count": 100,
     "metadata": {},
     "output_type": "execute_result"
    }
   ],
   "source": [
    "df3['director'] = dff['director'].str.lstrip()\n",
    "df3['director'].value_counts()"
   ]
  },
  {
   "cell_type": "code",
   "execution_count": 101,
   "metadata": {},
   "outputs": [],
   "source": [
    "df3_cleaned = df3[df3['genres'].notna()]"
   ]
  },
  {
   "cell_type": "code",
   "execution_count": 117,
   "metadata": {},
   "outputs": [],
   "source": [
    "df3_cleaned = df3_cleaned.drop(['release_year_y','show_id','type','cast_y','date_added','release_year_y','rating','listed_in','description',\"duration\"], axis = 1)"
   ]
  },
  {
   "cell_type": "code",
   "execution_count": 124,
   "metadata": {},
   "outputs": [],
   "source": [
    "df3_cleaned = df3_cleaned.drop(['duration'], axis = 1)"
   ]
  },
  {
   "cell_type": "code",
   "execution_count": 126,
   "metadata": {},
   "outputs": [],
   "source": [
    "df3_cleaned.to_csv('/Users/hadyelhossary/Downloads/DataViz_Project/cleaned2.csv')"
   ]
  },
  {
   "cell_type": "code",
   "execution_count": 130,
   "metadata": {},
   "outputs": [
    {
     "data": {
      "text/html": [
       "<div>\n",
       "<style scoped>\n",
       "    .dataframe tbody tr th:only-of-type {\n",
       "        vertical-align: middle;\n",
       "    }\n",
       "\n",
       "    .dataframe tbody tr th {\n",
       "        vertical-align: top;\n",
       "    }\n",
       "\n",
       "    .dataframe thead th {\n",
       "        text-align: right;\n",
       "    }\n",
       "</style>\n",
       "<table border=\"1\" class=\"dataframe\">\n",
       "  <thead>\n",
       "    <tr style=\"text-align: right;\">\n",
       "      <th></th>\n",
       "      <th>id</th>\n",
       "      <th>imdb_id</th>\n",
       "      <th>title</th>\n",
       "      <th>cast_x</th>\n",
       "      <th>director</th>\n",
       "      <th>runtime</th>\n",
       "      <th>genres</th>\n",
       "      <th>vote_count</th>\n",
       "      <th>vote_average</th>\n",
       "      <th>release_year_x</th>\n",
       "      <th>budget_adj</th>\n",
       "      <th>revenue_adj</th>\n",
       "      <th>release_day</th>\n",
       "      <th>release_month</th>\n",
       "      <th>country</th>\n",
       "    </tr>\n",
       "  </thead>\n",
       "  <tbody>\n",
       "    <tr>\n",
       "      <th>0</th>\n",
       "      <td>135397</td>\n",
       "      <td>tt0369610</td>\n",
       "      <td>Jurassic World</td>\n",
       "      <td>Chris Pratt|Bryce Dallas Howard|Irrfan Khan|Vi...</td>\n",
       "      <td>Colin Trevorrow</td>\n",
       "      <td>124</td>\n",
       "      <td>Action</td>\n",
       "      <td>5562</td>\n",
       "      <td>6.5</td>\n",
       "      <td>2015</td>\n",
       "      <td>1.379999e+08</td>\n",
       "      <td>1.392446e+09</td>\n",
       "      <td>9</td>\n",
       "      <td>6</td>\n",
       "      <td>United Kingdom</td>\n",
       "    </tr>\n",
       "    <tr>\n",
       "      <th>1</th>\n",
       "      <td>76341</td>\n",
       "      <td>tt1392190</td>\n",
       "      <td>Mad Max: Fury Road</td>\n",
       "      <td>Tom Hardy|Charlize Theron|Hugh Keays-Byrne|Nic...</td>\n",
       "      <td>George Miller</td>\n",
       "      <td>120</td>\n",
       "      <td>Adventure</td>\n",
       "      <td>6185</td>\n",
       "      <td>7.1</td>\n",
       "      <td>2015</td>\n",
       "      <td>1.379999e+08</td>\n",
       "      <td>3.481613e+08</td>\n",
       "      <td>13</td>\n",
       "      <td>5</td>\n",
       "      <td>United States</td>\n",
       "    </tr>\n",
       "    <tr>\n",
       "      <th>2</th>\n",
       "      <td>262500</td>\n",
       "      <td>tt2908446</td>\n",
       "      <td>Insurgent</td>\n",
       "      <td>Shailene Woodley|Theo James|Kate Winslet|Ansel...</td>\n",
       "      <td>Robert Schwentke</td>\n",
       "      <td>119</td>\n",
       "      <td>Science Fiction</td>\n",
       "      <td>2480</td>\n",
       "      <td>6.3</td>\n",
       "      <td>2015</td>\n",
       "      <td>1.012000e+08</td>\n",
       "      <td>2.716190e+08</td>\n",
       "      <td>18</td>\n",
       "      <td>3</td>\n",
       "      <td>United States</td>\n",
       "    </tr>\n",
       "    <tr>\n",
       "      <th>3</th>\n",
       "      <td>140607</td>\n",
       "      <td>tt2488496</td>\n",
       "      <td>Star Wars: The Force Awakens</td>\n",
       "      <td>Harrison Ford|Mark Hamill|Carrie Fisher|Adam D...</td>\n",
       "      <td>J.J. Abrams</td>\n",
       "      <td>136</td>\n",
       "      <td>Thriller</td>\n",
       "      <td>5292</td>\n",
       "      <td>7.5</td>\n",
       "      <td>2015</td>\n",
       "      <td>1.839999e+08</td>\n",
       "      <td>1.902723e+09</td>\n",
       "      <td>15</td>\n",
       "      <td>12</td>\n",
       "      <td>South Africa</td>\n",
       "    </tr>\n",
       "    <tr>\n",
       "      <th>4</th>\n",
       "      <td>168259</td>\n",
       "      <td>tt2820852</td>\n",
       "      <td>Furious 7</td>\n",
       "      <td>Vin Diesel|Paul Walker|Jason Statham|Michelle ...</td>\n",
       "      <td>James Wan</td>\n",
       "      <td>137</td>\n",
       "      <td>Action</td>\n",
       "      <td>2947</td>\n",
       "      <td>7.3</td>\n",
       "      <td>2015</td>\n",
       "      <td>1.747999e+08</td>\n",
       "      <td>1.385749e+09</td>\n",
       "      <td>1</td>\n",
       "      <td>4</td>\n",
       "      <td>United States</td>\n",
       "    </tr>\n",
       "    <tr>\n",
       "      <th>5</th>\n",
       "      <td>281957</td>\n",
       "      <td>tt1663202</td>\n",
       "      <td>The Revenant</td>\n",
       "      <td>Leonardo DiCaprio|Tom Hardy|Will Poulter|Domhn...</td>\n",
       "      <td>Alejandro GonzÃ¡lez IÃ±Ã¡rritu</td>\n",
       "      <td>156</td>\n",
       "      <td>Adventure</td>\n",
       "      <td>3929</td>\n",
       "      <td>7.2</td>\n",
       "      <td>2015</td>\n",
       "      <td>1.241999e+08</td>\n",
       "      <td>4.903142e+08</td>\n",
       "      <td>25</td>\n",
       "      <td>12</td>\n",
       "      <td>Ireland</td>\n",
       "    </tr>\n",
       "    <tr>\n",
       "      <th>6</th>\n",
       "      <td>87101</td>\n",
       "      <td>tt1340138</td>\n",
       "      <td>Terminator Genisys</td>\n",
       "      <td>Arnold Schwarzenegger|Jason Clarke|Emilia Clar...</td>\n",
       "      <td>Alan Taylor</td>\n",
       "      <td>125</td>\n",
       "      <td>Science Fiction</td>\n",
       "      <td>2598</td>\n",
       "      <td>5.8</td>\n",
       "      <td>2015</td>\n",
       "      <td>1.425999e+08</td>\n",
       "      <td>4.053551e+08</td>\n",
       "      <td>23</td>\n",
       "      <td>6</td>\n",
       "      <td>Canada</td>\n",
       "    </tr>\n",
       "    <tr>\n",
       "      <th>7</th>\n",
       "      <td>286217</td>\n",
       "      <td>tt3659388</td>\n",
       "      <td>The Martian</td>\n",
       "      <td>Matt Damon|Jessica Chastain|Kristen Wiig|Jeff ...</td>\n",
       "      <td>Ridley Scott</td>\n",
       "      <td>141</td>\n",
       "      <td>Thriller</td>\n",
       "      <td>4572</td>\n",
       "      <td>7.6</td>\n",
       "      <td>2015</td>\n",
       "      <td>9.935996e+07</td>\n",
       "      <td>5.477497e+08</td>\n",
       "      <td>30</td>\n",
       "      <td>9</td>\n",
       "      <td>United Kingdom</td>\n",
       "    </tr>\n",
       "    <tr>\n",
       "      <th>8</th>\n",
       "      <td>211672</td>\n",
       "      <td>tt2293640</td>\n",
       "      <td>Minions</td>\n",
       "      <td>Sandra Bullock|Jon Hamm|Michael Keaton|Allison...</td>\n",
       "      <td>Kyle Balda|Pierre Coffin</td>\n",
       "      <td>91</td>\n",
       "      <td>Adventure</td>\n",
       "      <td>2893</td>\n",
       "      <td>6.5</td>\n",
       "      <td>2015</td>\n",
       "      <td>6.807997e+07</td>\n",
       "      <td>1.064192e+09</td>\n",
       "      <td>17</td>\n",
       "      <td>6</td>\n",
       "      <td>United States</td>\n",
       "    </tr>\n",
       "    <tr>\n",
       "      <th>9</th>\n",
       "      <td>150540</td>\n",
       "      <td>tt2096673</td>\n",
       "      <td>Inside Out</td>\n",
       "      <td>Amy Poehler|Phyllis Smith|Richard Kind|Bill Ha...</td>\n",
       "      <td>Pete Docter</td>\n",
       "      <td>94</td>\n",
       "      <td>Science Fiction</td>\n",
       "      <td>3935</td>\n",
       "      <td>8.0</td>\n",
       "      <td>2015</td>\n",
       "      <td>1.609999e+08</td>\n",
       "      <td>7.854116e+08</td>\n",
       "      <td>9</td>\n",
       "      <td>6</td>\n",
       "      <td>United Kingdom</td>\n",
       "    </tr>\n",
       "  </tbody>\n",
       "</table>\n",
       "</div>"
      ],
      "text/plain": [
       "       id    imdb_id                         title  \\\n",
       "0  135397  tt0369610                Jurassic World   \n",
       "1   76341  tt1392190            Mad Max: Fury Road   \n",
       "2  262500  tt2908446                     Insurgent   \n",
       "3  140607  tt2488496  Star Wars: The Force Awakens   \n",
       "4  168259  tt2820852                     Furious 7   \n",
       "5  281957  tt1663202                  The Revenant   \n",
       "6   87101  tt1340138            Terminator Genisys   \n",
       "7  286217  tt3659388                   The Martian   \n",
       "8  211672  tt2293640                       Minions   \n",
       "9  150540  tt2096673                    Inside Out   \n",
       "\n",
       "                                              cast_x  \\\n",
       "0  Chris Pratt|Bryce Dallas Howard|Irrfan Khan|Vi...   \n",
       "1  Tom Hardy|Charlize Theron|Hugh Keays-Byrne|Nic...   \n",
       "2  Shailene Woodley|Theo James|Kate Winslet|Ansel...   \n",
       "3  Harrison Ford|Mark Hamill|Carrie Fisher|Adam D...   \n",
       "4  Vin Diesel|Paul Walker|Jason Statham|Michelle ...   \n",
       "5  Leonardo DiCaprio|Tom Hardy|Will Poulter|Domhn...   \n",
       "6  Arnold Schwarzenegger|Jason Clarke|Emilia Clar...   \n",
       "7  Matt Damon|Jessica Chastain|Kristen Wiig|Jeff ...   \n",
       "8  Sandra Bullock|Jon Hamm|Michael Keaton|Allison...   \n",
       "9  Amy Poehler|Phyllis Smith|Richard Kind|Bill Ha...   \n",
       "\n",
       "                         director  runtime           genres  vote_count  \\\n",
       "0                 Colin Trevorrow      124           Action        5562   \n",
       "1                   George Miller      120        Adventure        6185   \n",
       "2                Robert Schwentke      119  Science Fiction        2480   \n",
       "3                     J.J. Abrams      136         Thriller        5292   \n",
       "4                       James Wan      137           Action        2947   \n",
       "5  Alejandro GonzÃ¡lez IÃ±Ã¡rritu      156        Adventure        3929   \n",
       "6                     Alan Taylor      125  Science Fiction        2598   \n",
       "7                    Ridley Scott      141         Thriller        4572   \n",
       "8        Kyle Balda|Pierre Coffin       91        Adventure        2893   \n",
       "9                     Pete Docter       94  Science Fiction        3935   \n",
       "\n",
       "   vote_average  release_year_x    budget_adj   revenue_adj  release_day  \\\n",
       "0           6.5            2015  1.379999e+08  1.392446e+09            9   \n",
       "1           7.1            2015  1.379999e+08  3.481613e+08           13   \n",
       "2           6.3            2015  1.012000e+08  2.716190e+08           18   \n",
       "3           7.5            2015  1.839999e+08  1.902723e+09           15   \n",
       "4           7.3            2015  1.747999e+08  1.385749e+09            1   \n",
       "5           7.2            2015  1.241999e+08  4.903142e+08           25   \n",
       "6           5.8            2015  1.425999e+08  4.053551e+08           23   \n",
       "7           7.6            2015  9.935996e+07  5.477497e+08           30   \n",
       "8           6.5            2015  6.807997e+07  1.064192e+09           17   \n",
       "9           8.0            2015  1.609999e+08  7.854116e+08            9   \n",
       "\n",
       "   release_month         country  \n",
       "0              6  United Kingdom  \n",
       "1              5   United States  \n",
       "2              3   United States  \n",
       "3             12    South Africa  \n",
       "4              4   United States  \n",
       "5             12         Ireland  \n",
       "6              6          Canada  \n",
       "7              9  United Kingdom  \n",
       "8              6   United States  \n",
       "9              6  United Kingdom  "
      ]
     },
     "execution_count": 130,
     "metadata": {},
     "output_type": "execute_result"
    }
   ],
   "source": [
    "df3_cleaned.head(10)"
   ]
  },
  {
   "cell_type": "code",
   "execution_count": null,
   "metadata": {},
   "outputs": [],
   "source": []
  }
 ],
 "metadata": {
  "kernelspec": {
   "display_name": "Python 3",
   "language": "python",
   "name": "python3"
  },
  "language_info": {
   "codemirror_mode": {
    "name": "ipython",
    "version": 3
   },
   "file_extension": ".py",
   "mimetype": "text/x-python",
   "name": "python",
   "nbconvert_exporter": "python",
   "pygments_lexer": "ipython3",
   "version": "3.8.3"
  }
 },
 "nbformat": 4,
 "nbformat_minor": 4
}
